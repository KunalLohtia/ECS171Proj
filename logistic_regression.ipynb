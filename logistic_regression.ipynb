{
  "nbformat": 4,
  "nbformat_minor": 0,
  "metadata": {
    "colab": {
      "provenance": []
    },
    "kernelspec": {
      "name": "python3",
      "display_name": "Python 3"
    },
    "language_info": {
      "name": "python"
    }
  },
  "cells": [
    {
      "cell_type": "code",
      "source": [
        "import numpy as np\n",
        "import pandas as pd\n",
        "import os\n",
        "from sklearn.model_selection import train_test_split\n",
        "from sklearn.preprocessing import MinMaxScaler\n",
        "from sklearn.linear_model import LogisticRegression\n",
        "from google.colab import drive"
      ],
      "metadata": {
        "id": "tS1nnAifcj_L"
      },
      "execution_count": 3,
      "outputs": []
    },
    {
      "cell_type": "code",
      "source": [
        "drive.mount('/content/drive', force_remount=True)\n",
        "os.chdir('/content/drive/Shareddrives/171 Group/')"
      ],
      "metadata": {
        "colab": {
          "base_uri": "https://localhost:8080/"
        },
        "id": "Cg4ekxtmzDXJ",
        "outputId": "592369f8-8622-42c0-8d27-fa98d99a9cec"
      },
      "execution_count": 4,
      "outputs": [
        {
          "output_type": "stream",
          "name": "stdout",
          "text": [
            "Mounted at /content/drive\n"
          ]
        }
      ]
    },
    {
      "cell_type": "code",
      "source": [
        "# Load preprocessed breast cancer dataset\n",
        "data = pd.read_csv(\"breast-cancer.csv\")\n",
        "data = data.drop(\"id\", axis = 1)"
      ],
      "metadata": {
        "id": "MK7106eL9aAR"
      },
      "execution_count": 5,
      "outputs": []
    },
    {
      "cell_type": "code",
      "source": [
        "# deleting the rows with any instance of 0 in it, assume they are not real data\n",
        "data = data[(data['concavity_mean'] != 0 )]"
      ],
      "metadata": {
        "id": "ZTXE1kOSIjd3"
      },
      "execution_count": 6,
      "outputs": []
    },
    {
      "cell_type": "code",
      "source": [
        "# Assuming your target variable is in a column named 'target'\n",
        "X = data.drop('diagnosis', axis=1)\n",
        "y = data['diagnosis']"
      ],
      "metadata": {
        "id": "v6O1B457NQHl"
      },
      "execution_count": 7,
      "outputs": []
    },
    {
      "cell_type": "code",
      "source": [
        "# Split the dataset into training and testing sets\n",
        "X_train, X_test, y_train, y_test = train_test_split(X, y, test_size=0.2, random_state=42)"
      ],
      "metadata": {
        "id": "hx22cI7KNXRP"
      },
      "execution_count": 8,
      "outputs": []
    },
    {
      "cell_type": "code",
      "source": [
        "# Initialize MinMaxScaler\n",
        "scaler = MinMaxScaler()"
      ],
      "metadata": {
        "id": "hXKJvrF6cvx-"
      },
      "execution_count": 9,
      "outputs": []
    },
    {
      "cell_type": "code",
      "source": [
        "X_train = scaler.fit_transform(X_train)\n",
        "X_test = scaler.transform(X_test)"
      ],
      "metadata": {
        "id": "GLb_ML2FcynS"
      },
      "execution_count": 10,
      "outputs": []
    },
    {
      "cell_type": "code",
      "source": [
        "# Initialize logistic regression model\n",
        "model = LogisticRegression()\n",
        "\n",
        "# Train the model\n",
        "model.fit(X_train, y_train.values.ravel())\n",
        "\n",
        "# Make predictions on the test set\n",
        "y_pred = model.predict(X_test)"
      ],
      "metadata": {
        "id": "VIeGlyrMNdHY"
      },
      "execution_count": 11,
      "outputs": []
    },
    {
      "cell_type": "code",
      "source": [
        "from sklearn.metrics import accuracy_score, classification_report"
      ],
      "metadata": {
        "id": "Q8aw1FhF2hfM"
      },
      "execution_count": 13,
      "outputs": []
    },
    {
      "cell_type": "code",
      "source": [
        "# Calculate accuracy\n",
        "accuracy = accuracy_score(y_test, y_pred)\n",
        "print(\"Accuracy: \", round(accuracy, 4))\n",
        "\n",
        "# Classification report\n",
        "class_report = classification_report(y_test, y_pred)\n",
        "print(\"Classification Report:\\n\", class_report)\n"
      ],
      "metadata": {
        "colab": {
          "base_uri": "https://localhost:8080/"
        },
        "id": "qqz0OCFNNi5p",
        "outputId": "56727f02-b55e-42f1-97aa-a65e5f8f7c21"
      },
      "execution_count": 14,
      "outputs": [
        {
          "output_type": "stream",
          "name": "stdout",
          "text": [
            "Accuracy:  0.9821\n",
            "Classification Report:\n",
            "               precision    recall  f1-score   support\n",
            "\n",
            "           B       0.97      1.00      0.98        60\n",
            "           M       1.00      0.96      0.98        52\n",
            "\n",
            "    accuracy                           0.98       112\n",
            "   macro avg       0.98      0.98      0.98       112\n",
            "weighted avg       0.98      0.98      0.98       112\n",
            "\n"
          ]
        }
      ]
    },
    {
      "cell_type": "code",
      "source": [
        "# Repeat the process for multiple epochs\n",
        "num_runs = 6\n",
        "average_accuracy = 0\n",
        "\n",
        "for _ in range(num_runs):\n",
        "    X_train, X_test, y_train, y_test = train_test_split(X, y, test_size=0.2, random_state=None)\n",
        "\n",
        "    X_train = scaler.fit_transform(X_train)\n",
        "    X_test = scaler.transform(X_test)\n",
        "\n",
        "    model = LogisticRegression()\n",
        "\n",
        "    model.fit(X_train, y_train.values.ravel())\n",
        "\n",
        "    y_pred = model.predict(X_test)\n",
        "\n",
        "    average_accuracy += accuracy_score(y_test, y_pred)\n",
        "\n",
        "average_accuracy /= num_runs\n",
        "\n",
        "print(\"\\nAverage accuracy (over\", num_runs, \"epochs): \", round(average_accuracy, 4))\n",
        "\n",
        "# Classification report\n",
        "class_report = classification_report(y_test, y_pred)\n",
        "print(\"Classification Report:\\n\", class_report)"
      ],
      "metadata": {
        "colab": {
          "base_uri": "https://localhost:8080/"
        },
        "id": "GGtm3jAjNsRp",
        "outputId": "64217ef6-6f87-4a62-f7f4-ad953043001e"
      },
      "execution_count": 15,
      "outputs": [
        {
          "output_type": "stream",
          "name": "stdout",
          "text": [
            "\n",
            "Average accuracy (over 6 epochs):  0.9613\n",
            "Classification Report:\n",
            "               precision    recall  f1-score   support\n",
            "\n",
            "           B       0.92      1.00      0.96        67\n",
            "           M       1.00      0.87      0.93        45\n",
            "\n",
            "    accuracy                           0.95       112\n",
            "   macro avg       0.96      0.93      0.94       112\n",
            "weighted avg       0.95      0.95      0.95       112\n",
            "\n"
          ]
        }
      ]
    },
    {
      "cell_type": "code",
      "source": [
        "# Input values for prediction\n",
        "input_data = np.array([13.54,14.36,87.46,566.3,0.09779,0.08129,0.06664,0.04781,0.1885,0.05766,0.2699,0.7886,2.058,23.56,0.008462,0.0146,0.02387,0.01315,0.0198,0.0023,15.11,19.26,99.7,711.2,0.144,0.1773,0.239,0.1288,0.2977,0.07259]).reshape(1, -1)\n",
        "\n",
        "# Standardize the input data using the previously fit scaler\n",
        "input_data_standardized = scaler.transform(input_data)\n",
        "\n",
        "# Make predictions\n",
        "prediction = model.predict(input_data_standardized)\n",
        "\n",
        "# Output the prediction\n",
        "print(\"Predicted Diagnosis:\", prediction[0])\n"
      ],
      "metadata": {
        "colab": {
          "base_uri": "https://localhost:8080/"
        },
        "id": "5ktWyWieKnab",
        "outputId": "f9f63a7b-360a-4190-af69-2fb00d6abdb6"
      },
      "execution_count": 18,
      "outputs": [
        {
          "output_type": "stream",
          "name": "stdout",
          "text": [
            "Predicted Diagnosis: B\n"
          ]
        },
        {
          "output_type": "stream",
          "name": "stderr",
          "text": [
            "/usr/local/lib/python3.10/dist-packages/sklearn/base.py:439: UserWarning: X does not have valid feature names, but MinMaxScaler was fitted with feature names\n",
            "  warnings.warn(\n"
          ]
        }
      ]
    }
  ]
}